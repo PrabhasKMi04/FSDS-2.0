{
 "cells": [
  {
   "cell_type": "markdown",
   "id": "fa76ef6c",
   "metadata": {},
   "source": [
    "## Write a function to find out the length of a string without using built in functionlen()\n"
   ]
  },
  {
   "cell_type": "code",
   "execution_count": 1,
   "id": "b52010d8",
   "metadata": {},
   "outputs": [],
   "source": [
    "def lcount(a):\n",
    "    \"\"\" This function will help in counting the lengh of \n",
    "    any given string \"\"\"\n",
    "    counter = 0   \n",
    "    for i in a:\n",
    "        counter = counter+ 1\n",
    "    return counter\n"
   ]
  },
  {
   "cell_type": "markdown",
   "id": "fa315b85",
   "metadata": {},
   "source": [
    "##### Testing the function lcount(a)"
   ]
  },
  {
   "cell_type": "code",
   "execution_count": 3,
   "id": "3af73b32",
   "metadata": {},
   "outputs": [
    {
     "name": "stdout",
     "output_type": "stream",
     "text": [
      "19\n",
      "7\n"
     ]
    }
   ],
   "source": [
    "text1 = 'My name is Prabhas '\n",
    "text2 = 'Prabhas'\n",
    "print(lcount(text1))\n",
    "print(lcount(text2))"
   ]
  },
  {
   "cell_type": "markdown",
   "id": "e4fe6b55",
   "metadata": {},
   "source": [
    "### Write a function to find out the index of the passed list  without using built in function i.e .index()"
   ]
  },
  {
   "cell_type": "code",
   "execution_count": 4,
   "id": "b109d922",
   "metadata": {},
   "outputs": [],
   "source": [
    "def lind (g):\n",
    "    \"\"\" This function will help in finding the index of any passed list\n",
    "    without using built in function .index()\"\"\"\n",
    "    ind= []\n",
    "    for i in range (len(list(g))):\n",
    "        \n",
    "        ind.append(i)\n",
    "       \n",
    "    return ind"
   ]
  },
  {
   "cell_type": "markdown",
   "id": "9b25eb12",
   "metadata": {},
   "source": [
    "##### Testing the function "
   ]
  },
  {
   "cell_type": "code",
   "execution_count": 5,
   "id": "ea7e076e",
   "metadata": {},
   "outputs": [
    {
     "data": {
      "text/plain": [
       "[0, 1, 2, 3, 4]"
      ]
     },
     "execution_count": 5,
     "metadata": {},
     "output_type": "execute_result"
    }
   ],
   "source": [
    "List = [2,3,4,5,'prabhas']\n",
    "lind(List)"
   ]
  },
  {
   "cell_type": "markdown",
   "id": "44231aa0",
   "metadata": {},
   "source": [
    "### Write afunction which will take list as an input and perform multiplication of all the numeric elements\n",
    "\n",
    "    l = [3.5,6.56,4,5,'sudh', 'inueron', 'fsda bootcamp 2.0']"
   ]
  },
  {
   "cell_type": "code",
   "execution_count": 9,
   "id": "e1fdc3b7",
   "metadata": {},
   "outputs": [],
   "source": [
    "def multList(givenList):\n",
    " \n",
    "    \"\"\"function which will take an input as a list with any kind of numeric values and give out multiplication of numeric data\n",
    "l = [3.5,6.56,4,5,'sudh', 'inueron', 'fsda bootcamp 2.0'] \"\"\"\n",
    "    multiply = 1\n",
    "    for i in givenList:\n",
    "        if type(i) == int:\n",
    "            multiply = multiply * i\n",
    "    return multiply"
   ]
  },
  {
   "cell_type": "markdown",
   "id": "a3571fc1",
   "metadata": {},
   "source": [
    "#### Testing the aforementioned function "
   ]
  },
  {
   "cell_type": "code",
   "execution_count": 11,
   "id": "4550532e",
   "metadata": {},
   "outputs": [
    {
     "name": "stdout",
     "output_type": "stream",
     "text": [
      "6\n",
      "20\n"
     ]
    }
   ],
   "source": [
    "l= [3.5,6.56,4,5,'sudh', 'inueron', 'fsda bootcamp 2.0']\n",
    "l1 = [1,2,3]\n",
    "print(multList(l1))\n",
    "print(multList(l))"
   ]
  },
  {
   "cell_type": "markdown",
   "id": "ebd7b39b",
   "metadata": {},
   "source": [
    "### These problems are need to discuss \n",
    "* Write a function which will be able to print a IP address of the system\n",
    "* Function to shut down the system\n",
    "* Function to read out the mails\n",
    "* Function to send the mail to anyone\n",
    "* Function to read out the file\n"
   ]
  },
  {
   "cell_type": "code",
   "execution_count": null,
   "id": "8845e56b",
   "metadata": {},
   "outputs": [],
   "source": []
  }
 ],
 "metadata": {
  "kernelspec": {
   "display_name": "Python 3 (ipykernel)",
   "language": "python",
   "name": "python3"
  },
  "language_info": {
   "codemirror_mode": {
    "name": "ipython",
    "version": 3
   },
   "file_extension": ".py",
   "mimetype": "text/x-python",
   "name": "python",
   "nbconvert_exporter": "python",
   "pygments_lexer": "ipython3",
   "version": "3.9.12"
  }
 },
 "nbformat": 4,
 "nbformat_minor": 5
}
