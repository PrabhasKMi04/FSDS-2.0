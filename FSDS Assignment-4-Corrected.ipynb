{
 "cells": [
  {
   "cell_type": "markdown",
   "id": "13cee1e5",
   "metadata": {},
   "source": [
    "## Q1. Find the largest number from the given list, use for loop."
   ]
  },
  {
   "cell_type": "code",
   "execution_count": null,
   "id": "c9fcf728",
   "metadata": {},
   "outputs": [],
   "source": []
  },
  {
   "cell_type": "code",
   "execution_count": 6,
   "id": "0bebf4bf",
   "metadata": {},
   "outputs": [
    {
     "name": "stdout",
     "output_type": "stream",
     "text": [
      "Largest number in the given list is : 525\n"
     ]
    }
   ],
   "source": [
    "numbers = [12, 75, 150, 180, 145, 525, 50]\n",
    "l_number = 0\n",
    "for i in numbers:\n",
    "    if i > l_number:\n",
    "        l_number = i\n",
    "print(f\"Largest number in the given list is : {l_number}\")\n",
    "    "
   ]
  },
  {
   "cell_type": "markdown",
   "id": "44d4e40f",
   "metadata": {},
   "source": [
    "## Q2. Print all the even number between (1, 12)."
   ]
  },
  {
   "cell_type": "code",
   "execution_count": 10,
   "id": "6a1cd437",
   "metadata": {},
   "outputs": [
    {
     "name": "stdout",
     "output_type": "stream",
     "text": [
      "2\n",
      "4\n",
      "6\n",
      "8\n",
      "10\n"
     ]
    }
   ],
   "source": [
    "for i in range (1,12):\n",
    "    if i % 2 ==0:\n",
    "        print (i)\n",
    "    \n"
   ]
  },
  {
   "cell_type": "markdown",
   "id": "761cc727",
   "metadata": {},
   "source": [
    "## Q3. Calculate the sum of all numbers from 1 to a given number\n",
    "\n",
    "* Expected Output:\n",
    "\n",
    "* Enter number 10\n",
    "\n",
    "* Sum is: 55"
   ]
  },
  {
   "cell_type": "code",
   "execution_count": 11,
   "id": "cdedfe1c",
   "metadata": {},
   "outputs": [
    {
     "name": "stdout",
     "output_type": "stream",
     "text": [
      "Enter a  number: 10\n",
      "Sum is: 55\n"
     ]
    }
   ],
   "source": [
    "number=int(input(\"Enter a  number: \"))\n",
    "total = 0\n",
    "for i in range(1,number+1):\n",
    "    total = i + total             \n",
    "print(f\"Sum is: {total}\")"
   ]
  },
  {
   "cell_type": "markdown",
   "id": "160a3e5d",
   "metadata": {},
   "source": [
    "## Q4. Write a program to display only those numbers from a list that satisfy the following conditions\n",
    "##### The number must be divisible by five\n",
    "\n",
    "##### If the number is greater than 150, then skip it and move to the next number\n",
    "\n",
    "##### If the number is greater than 500, then stop the loop\n",
    "\n",
    "#given\n",
    "### numbers = [12, 75, 150, 180, 145, 525, 50]"
   ]
  },
  {
   "cell_type": "code",
   "execution_count": 13,
   "id": "568aa151",
   "metadata": {},
   "outputs": [
    {
     "name": "stdout",
     "output_type": "stream",
     "text": [
      "75\n",
      "150\n",
      "180\n",
      "145\n",
      "525\n",
      "50\n"
     ]
    }
   ],
   "source": [
    "# Testing the code with individual condition and then will combine \n",
    "numbers = [12, 75, 150, 180, 145, 525, 50]\n",
    "\n",
    "numbers = [12, 75, 150, 180, 145, 525, 50]\n",
    "for i in numbers:\n",
    "\n",
    "    if i % 5 ==0:\n",
    "        print(i)\n",
    "    "
   ]
  },
  {
   "cell_type": "code",
   "execution_count": 16,
   "id": "052bcb63",
   "metadata": {},
   "outputs": [
    {
     "name": "stdout",
     "output_type": "stream",
     "text": [
      "75\n",
      "150\n",
      "180\n",
      "145\n"
     ]
    }
   ],
   "source": [
    "num1 = [75,150,180,145,525,50]\n",
    "for i in num1:\n",
    "    if i> 500:\n",
    "        break\n",
    "    print(i)"
   ]
  },
  {
   "cell_type": "code",
   "execution_count": 18,
   "id": "899c3c26",
   "metadata": {},
   "outputs": [
    {
     "name": "stdout",
     "output_type": "stream",
     "text": [
      "75\n",
      "150\n",
      "145\n"
     ]
    }
   ],
   "source": [
    "num2= [75,150,180,145]\n",
    "for i in num2:\n",
    "    if i> 150:\n",
    "        continue\n",
    "    print(i)"
   ]
  },
  {
   "cell_type": "code",
   "execution_count": 19,
   "id": "b05f7e19",
   "metadata": {},
   "outputs": [
    {
     "name": "stdout",
     "output_type": "stream",
     "text": [
      "75\n",
      "150\n",
      "145\n"
     ]
    }
   ],
   "source": [
    "## Combining all conditions \n",
    "\n",
    "numbers = [12, 75, 150, 180, 145, 525, 50]\n",
    "for i in numbers:\n",
    "\n",
    "    if i % 5 ==0:\n",
    "        if i > 500:\n",
    "            break\n",
    "        if i>150:\n",
    "            continue\n",
    "        print(i)"
   ]
  },
  {
   "cell_type": "markdown",
   "id": "36fdb0a3",
   "metadata": {},
   "source": [
    "## Q5. Print the given list in reverse order.\n",
    "\n",
    "#### list1 = [10, 20, 30, 40, 50]"
   ]
  },
  {
   "cell_type": "code",
   "execution_count": 24,
   "id": "5a9945ea",
   "metadata": {},
   "outputs": [
    {
     "name": "stdout",
     "output_type": "stream",
     "text": [
      "50\n",
      "40\n",
      "30\n",
      "20\n",
      "10\n"
     ]
    }
   ],
   "source": [
    "list1 = [10, 20, 30, 40, 50]\n",
    "for i in reversed(list1):\n",
    "    print(i)"
   ]
  },
  {
   "cell_type": "code",
   "execution_count": null,
   "id": "8cd7085c",
   "metadata": {},
   "outputs": [],
   "source": []
  }
 ],
 "metadata": {
  "kernelspec": {
   "display_name": "Python 3 (ipykernel)",
   "language": "python",
   "name": "python3"
  },
  "language_info": {
   "codemirror_mode": {
    "name": "ipython",
    "version": 3
   },
   "file_extension": ".py",
   "mimetype": "text/x-python",
   "name": "python",
   "nbconvert_exporter": "python",
   "pygments_lexer": "ipython3",
   "version": "3.9.12"
  }
 },
 "nbformat": 4,
 "nbformat_minor": 5
}
